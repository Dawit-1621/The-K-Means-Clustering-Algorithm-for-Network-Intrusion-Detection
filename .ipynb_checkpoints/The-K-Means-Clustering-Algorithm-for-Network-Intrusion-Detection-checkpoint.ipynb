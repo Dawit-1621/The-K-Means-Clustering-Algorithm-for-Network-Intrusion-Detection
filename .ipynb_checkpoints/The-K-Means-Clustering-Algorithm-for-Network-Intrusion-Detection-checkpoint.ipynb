{
 "cells": [
  {
   "cell_type": "markdown",
   "metadata": {},
   "source": [
    "# K-Means Clustering"
   ]
  },
  {
   "cell_type": "markdown",
   "metadata": {},
   "source": [
    "### Importing the libraries"
   ]
  },
  {
   "cell_type": "code",
   "execution_count": 25,
   "metadata": {},
   "outputs": [],
   "source": [
    "import numpy as np\n",
    "import matplotlib.pyplot as plt\n",
    "import pandas as pd\n",
    "from sklearn.preprocessing import LabelEncoder"
   ]
  },
  {
   "cell_type": "markdown",
   "metadata": {},
   "source": [
    "### Importing the dataset"
   ]
  },
  {
   "cell_type": "code",
   "execution_count": 54,
   "metadata": {},
   "outputs": [],
   "source": [
    "dataset = pd.read_csv('Network_Intrusion_Detection_Dataset.csv')\n",
    "#X = dataset.iloc[:,:41].values"
   ]
  },
  {
   "cell_type": "code",
   "execution_count": 55,
   "metadata": {},
   "outputs": [
    {
     "name": "stdout",
     "output_type": "stream",
     "text": [
      "<class 'pandas.core.frame.DataFrame'>\n",
      "RangeIndex: 52777 entries, 0 to 52776\n",
      "Data columns (total 42 columns):\n",
      " #   Column                       Non-Null Count  Dtype  \n",
      "---  ------                       --------------  -----  \n",
      " 0   duration                     52777 non-null  int64  \n",
      " 1   protocol_type                52777 non-null  object \n",
      " 2   service                      52777 non-null  object \n",
      " 3   flag                         52777 non-null  object \n",
      " 4   src_bytes                    52777 non-null  int64  \n",
      " 5   dst_bytes                    52777 non-null  int64  \n",
      " 6   land                         52777 non-null  int64  \n",
      " 7   wrong_fragment               52777 non-null  int64  \n",
      " 8   urgent                       52777 non-null  int64  \n",
      " 9   hot                          52777 non-null  int64  \n",
      " 10  num_failed_logins            52777 non-null  int64  \n",
      " 11  logged_in                    52777 non-null  int64  \n",
      " 12  num_compromised              52777 non-null  int64  \n",
      " 13  root_shell                   52777 non-null  int64  \n",
      " 14  su_attempted                 52777 non-null  int64  \n",
      " 15  num_root                     52777 non-null  int64  \n",
      " 16  num_file_creations           52777 non-null  int64  \n",
      " 17  num_shells                   52777 non-null  int64  \n",
      " 18  num_access_files             52777 non-null  int64  \n",
      " 19  num_outbound_cmds            52777 non-null  int64  \n",
      " 20  is_host_login                52777 non-null  int64  \n",
      " 21  is_guest_login               52777 non-null  int64  \n",
      " 22  count                        52777 non-null  int64  \n",
      " 23  srv_count                    52777 non-null  int64  \n",
      " 24  serror_rate                  52777 non-null  float64\n",
      " 25  srv_serror_rate              52777 non-null  float64\n",
      " 26  rerror_rate                  52777 non-null  float64\n",
      " 27  srv_rerror_rate              52777 non-null  float64\n",
      " 28  same_srv_rate                52777 non-null  float64\n",
      " 29  diff_srv_rate                52777 non-null  float64\n",
      " 30  srv_diff_host_rate           52777 non-null  float64\n",
      " 31  dst_host_count               52777 non-null  int64  \n",
      " 32  dst_host_srv_count           52777 non-null  int64  \n",
      " 33  dst_host_same_srv_rate       52777 non-null  float64\n",
      " 34  dst_host_diff_srv_rate       52777 non-null  float64\n",
      " 35  dst_host_same_src_port_rate  52777 non-null  float64\n",
      " 36  dst_host_srv_diff_host_rate  52777 non-null  float64\n",
      " 37  dst_host_serror_rate         52777 non-null  float64\n",
      " 38  dst_host_srv_serror_rate     52777 non-null  float64\n",
      " 39  dst_host_rerror_rate         52777 non-null  float64\n",
      " 40  dst_host_srv_rerror_rate     52777 non-null  float64\n",
      " 41  class                        52777 non-null  int64  \n",
      "dtypes: float64(15), int64(24), object(3)\n",
      "memory usage: 16.9+ MB\n"
     ]
    }
   ],
   "source": [
    "dataset.info()"
   ]
  },
  {
   "cell_type": "code",
   "execution_count": 56,
   "metadata": {},
   "outputs": [
    {
     "data": {
      "text/plain": [
       "Index(['duration', 'protocol_type', 'service', 'flag', 'src_bytes',\n",
       "       'dst_bytes', 'land', 'wrong_fragment', 'urgent', 'hot',\n",
       "       'num_failed_logins', 'logged_in', 'num_compromised', 'root_shell',\n",
       "       'su_attempted', 'num_root', 'num_file_creations', 'num_shells',\n",
       "       'num_access_files', 'num_outbound_cmds', 'is_host_login',\n",
       "       'is_guest_login', 'count', 'srv_count', 'serror_rate',\n",
       "       'srv_serror_rate', 'rerror_rate', 'srv_rerror_rate', 'same_srv_rate',\n",
       "       'diff_srv_rate', 'srv_diff_host_rate', 'dst_host_count',\n",
       "       'dst_host_srv_count', 'dst_host_same_srv_rate',\n",
       "       'dst_host_diff_srv_rate', 'dst_host_same_src_port_rate',\n",
       "       'dst_host_srv_diff_host_rate', 'dst_host_serror_rate',\n",
       "       'dst_host_srv_serror_rate', 'dst_host_rerror_rate',\n",
       "       'dst_host_srv_rerror_rate', 'class'],\n",
       "      dtype='object')"
      ]
     },
     "execution_count": 56,
     "metadata": {},
     "output_type": "execute_result"
    }
   ],
   "source": [
    "dataset.columns"
   ]
  },
  {
   "cell_type": "code",
   "execution_count": 60,
   "metadata": {},
   "outputs": [
    {
     "data": {
      "text/plain": [
       "0         tcp\n",
       "1         tcp\n",
       "2         tcp\n",
       "3         tcp\n",
       "4         tcp\n",
       "         ... \n",
       "52772    icmp\n",
       "52773    icmp\n",
       "52774    icmp\n",
       "52775    icmp\n",
       "52776    icmp\n",
       "Name: protocol_type, Length: 52777, dtype: object"
      ]
     },
     "execution_count": 60,
     "metadata": {},
     "output_type": "execute_result"
    }
   ],
   "source": [
    "dataset[\"protocol_type\"]"
   ]
  },
  {
   "cell_type": "markdown",
   "metadata": {},
   "source": [
    "### Data preprocessing"
   ]
  },
  {
   "cell_type": "code",
   "execution_count": 61,
   "metadata": {},
   "outputs": [],
   "source": [
    "labelencoder = LabelEncoder()\n",
    "dataset[\"protocol_type\"] = labelencoder.fit_transform(dataset[\"protocol_type\"])\n",
    "dataset[\"service\"] = labelencoder.fit_transform(dataset[\"service\"])\n",
    "dataset[\"flag\"] = labelencoder.fit_transform(dataset[\"flag\"])\n"
   ]
  },
  {
   "cell_type": "code",
   "execution_count": 62,
   "metadata": {},
   "outputs": [
    {
     "data": {
      "text/plain": [
       "0        22\n",
       "1        22\n",
       "2        22\n",
       "3        22\n",
       "4        22\n",
       "         ..\n",
       "52772    13\n",
       "52773    13\n",
       "52774    13\n",
       "52775    13\n",
       "52776    13\n",
       "Name: service, Length: 52777, dtype: int64"
      ]
     },
     "execution_count": 62,
     "metadata": {},
     "output_type": "execute_result"
    }
   ],
   "source": [
    "dataset[\"service\"]"
   ]
  },
  {
   "cell_type": "code",
   "execution_count": 63,
   "metadata": {},
   "outputs": [],
   "source": [
    "X = dataset.iloc[:,:41].values"
   ]
  },
  {
   "cell_type": "markdown",
   "metadata": {},
   "source": [
    "### Using the elbow method to find the optimal number of clusters"
   ]
  },
  {
   "cell_type": "code",
   "execution_count": 64,
   "metadata": {},
   "outputs": [
    {
     "data": {
      "image/png": "[encoded data removed]",
      "text/plain": [
       "<Figure size 432x288 with 1 Axes>"
      ]
     },
     "metadata": {
      "needs_background": "light"
     },
     "output_type": "display_data"
    }
   ],
   "source": [
    "from sklearn.cluster import KMeans\n",
    "wcss = []\n",
    "for i in range(1, 11):\n",
    "    kmeans = KMeans(n_clusters = i, init = 'k-means++', random_state = 42)\n",
    "    kmeans.fit(X)\n",
    "    wcss.append(kmeans.inertia_)\n",
    "plt.plot(range(1,11), wcss)\n",
    "plt.title(\"The Elbow Method\")\n",
    "plt.xlabel('Number of clusters')\n",
    "plt.ylabel('WCSS')\n",
    "plt.show()"
   ]
  },
  {
   "cell_type": "markdown",
   "metadata": {},
   "source": [
    "### Training the K-Means model on the dataset"
   ]
  },
  {
   "cell_type": "code",
   "execution_count": 65,
   "metadata": {},
   "outputs": [],
   "source": [
    "kmeans = KMeans(n_clusters = 2, init = 'k-means++', random_state = 42)\n",
    "y_kmeans = kmeans.fit_predict(X)"
   ]
  },
  {
   "cell_type": "markdown",
   "metadata": {},
   "source": [
    "### Visualising the clusters"
   ]
  },
  {
   "cell_type": "code",
   "execution_count": 66,
   "metadata": {},
   "outputs": [
    {
     "data": {
      "image/png": "[encoded data removed]",
      "text/plain": [
       "<Figure size 432x288 with 1 Axes>"
      ]
     },
     "metadata": {
      "needs_background": "light"
     },
     "output_type": "display_data"
    }
   ],
   "source": [
    "plt.scatter(X[y_kmeans == 0, 0], X[y_kmeans == 0, 1], s = 100, c = 'red', label = 'Cluster 1')\n",
    "plt.scatter(X[y_kmeans == 1, 0], X[y_kmeans == 1, 1], s = 100, c = 'blue', label = 'Cluster 2')\n",
    "#plt.scatter(X[y_kmeans == 2, 0], X[y_kmeans == 2, 1], s = 100, c = 'green', label = 'Cluster 3')\n",
    "#plt.scatter(X[y_kmeans == 3, 0], X[y_kmeans == 3, 1], s = 100, c = 'cyan', label = 'Cluster 4')\n",
    "#plt.scatter(X[y_kmeans == 4, 0], X[y_kmeans == 4, 1], s = 100, c = 'magenta', label = 'Cluster 5')\n",
    "#plt.scatter(kmeans.cluster_centers_[:, 0], kmeans.cluster_centers_[:, 1], s = 300, c = 'yellow', label = 'Centroids')\n",
    "plt.title('Network-Intrusion-Detection')\n",
    "plt.xlabel('Normal')\n",
    "plt.ylabel('Attack')\n",
    "plt.legend()\n",
    "plt.show()"
   ]
  }
 ],
 "metadata": {
  "kernelspec": {
   "display_name": "Python 3",
   "language": "python",
   "name": "python3"
  },
  "language_info": {
   "codemirror_mode": {
    "name": "ipython",
    "version": 3
   },
   "file_extension": ".py",
   "mimetype": "text/x-python",
   "name": "python",
   "nbconvert_exporter": "python",
   "pygments_lexer": "ipython3",
   "version": "3.7.6"
  }
 },
 "nbformat": 4,
 "nbformat_minor": 4
}
